{
 "cells": [
  {
   "cell_type": "code",
   "execution_count": 1,
   "metadata": {},
   "outputs": [
    {
     "name": "stdout",
     "output_type": "stream",
     "text": [
      "Collecting isne-recommendation\n",
      "  Downloading isne_recommendation-0.0.4-py3-none-any.whl.metadata (2.8 kB)\n",
      "Collecting fuzzywuzzy==0.18.0 (from isne-recommendation)\n",
      "  Using cached fuzzywuzzy-0.18.0-py2.py3-none-any.whl.metadata (4.9 kB)\n",
      "Collecting joblib==1.3.2 (from isne-recommendation)\n",
      "  Using cached joblib-1.3.2-py3-none-any.whl.metadata (5.4 kB)\n",
      "Collecting levenshtein==0.25.0 (from isne-recommendation)\n",
      "  Using cached Levenshtein-0.25.0-cp312-cp312-win_amd64.whl.metadata (3.4 kB)\n",
      "Collecting numpy==1.26.4 (from isne-recommendation)\n",
      "  Using cached numpy-1.26.4-cp312-cp312-win_amd64.whl.metadata (61 kB)\n",
      "Collecting pandas==2.2.1 (from isne-recommendation)\n",
      "  Using cached pandas-2.2.1-cp312-cp312-win_amd64.whl.metadata (19 kB)\n",
      "Requirement already satisfied: python-dateutil==2.9.0.post0 in c:\\users\\jiro.desktop-hok2cvb\\desktop\\local repository\\recommendation-system-venv\\.venv\\lib\\site-packages (from isne-recommendation) (2.9.0.post0)\n",
      "Collecting python-levenshtein==0.25.0 (from isne-recommendation)\n",
      "  Using cached python_Levenshtein-0.25.0-py3-none-any.whl.metadata (3.7 kB)\n",
      "Collecting pytz==2024.1 (from isne-recommendation)\n",
      "  Using cached pytz-2024.1-py2.py3-none-any.whl.metadata (22 kB)\n",
      "Collecting rapidfuzz==3.6.2 (from isne-recommendation)\n",
      "  Using cached rapidfuzz-3.6.2-cp312-cp312-win_amd64.whl.metadata (11 kB)\n",
      "Collecting scikit-learn==1.4.1.post1 (from isne-recommendation)\n",
      "  Using cached scikit_learn-1.4.1.post1-cp312-cp312-win_amd64.whl.metadata (11 kB)\n",
      "Collecting scipy==1.12.0 (from isne-recommendation)\n",
      "  Using cached scipy-1.12.0-cp312-cp312-win_amd64.whl.metadata (60 kB)\n",
      "Requirement already satisfied: six==1.16.0 in c:\\users\\jiro.desktop-hok2cvb\\desktop\\local repository\\recommendation-system-venv\\.venv\\lib\\site-packages (from isne-recommendation) (1.16.0)\n",
      "Collecting threadpoolctl==3.3.0 (from isne-recommendation)\n",
      "  Using cached threadpoolctl-3.3.0-py3-none-any.whl.metadata (13 kB)\n",
      "Collecting tzdata==2024.1 (from isne-recommendation)\n",
      "  Using cached tzdata-2024.1-py2.py3-none-any.whl.metadata (1.4 kB)\n",
      "Downloading isne_recommendation-0.0.4-py3-none-any.whl (8.4 kB)\n",
      "Using cached fuzzywuzzy-0.18.0-py2.py3-none-any.whl (18 kB)\n",
      "Using cached joblib-1.3.2-py3-none-any.whl (302 kB)\n",
      "Using cached Levenshtein-0.25.0-cp312-cp312-win_amd64.whl (98 kB)\n",
      "Using cached numpy-1.26.4-cp312-cp312-win_amd64.whl (15.5 MB)\n",
      "Using cached pandas-2.2.1-cp312-cp312-win_amd64.whl (11.5 MB)\n",
      "Using cached python_Levenshtein-0.25.0-py3-none-any.whl (9.4 kB)\n",
      "Using cached pytz-2024.1-py2.py3-none-any.whl (505 kB)\n",
      "Using cached rapidfuzz-3.6.2-cp312-cp312-win_amd64.whl (1.6 MB)\n",
      "Using cached scikit_learn-1.4.1.post1-cp312-cp312-win_amd64.whl (10.6 MB)\n",
      "Using cached scipy-1.12.0-cp312-cp312-win_amd64.whl (45.8 MB)\n",
      "Using cached threadpoolctl-3.3.0-py3-none-any.whl (17 kB)\n",
      "Using cached tzdata-2024.1-py2.py3-none-any.whl (345 kB)\n",
      "Installing collected packages: pytz, fuzzywuzzy, tzdata, threadpoolctl, rapidfuzz, numpy, joblib, scipy, pandas, levenshtein, scikit-learn, python-levenshtein, isne-recommendation\n",
      "Successfully installed fuzzywuzzy-0.18.0 isne-recommendation-0.0.4 joblib-1.3.2 levenshtein-0.25.0 numpy-1.26.4 pandas-2.2.1 python-levenshtein-0.25.0 pytz-2024.1 rapidfuzz-3.6.2 scikit-learn-1.4.1.post1 scipy-1.12.0 threadpoolctl-3.3.0 tzdata-2024.1\n"
     ]
    }
   ],
   "source": [
    "!pip install isne-recommendation"
   ]
  },
  {
   "cell_type": "code",
   "execution_count": 4,
   "metadata": {},
   "outputs": [],
   "source": [
    "from isne_recommendation import TfidfLinearKernel, FeatureRatingsKNN, Hybrid"
   ]
  },
  {
   "cell_type": "code",
   "execution_count": 6,
   "metadata": {},
   "outputs": [],
   "source": [
    "import pandas as pd"
   ]
  },
  {
   "cell_type": "markdown",
   "metadata": {},
   "source": [
    "# Prepare for data"
   ]
  },
  {
   "cell_type": "markdown",
   "metadata": {},
   "source": [
    "To get recommended courses, there are 4 required parameters that consist of username, item_data, user_data, top_n"
   ]
  },
  {
   "cell_type": "markdown",
   "metadata": {},
   "source": [
    "- TfidfLinearKernel.get_recommendations(username, item_data, user_data, top_n) \\\n",
    "- FeatureRatingsKNN.get_recommendations(username, user_data, top_n) \\\n",
    "- Hybrid.get_recommendations(username, item_data, user_data, top_n)"
   ]
  },
  {
   "cell_type": "code",
   "execution_count": 9,
   "metadata": {},
   "outputs": [],
   "source": [
    "i_data = pd.read_excel('item_dataset.xlsx')\n",
    "u_data = pd.read_excel('user_dataset.xlsx')"
   ]
  },
  {
   "cell_type": "code",
   "execution_count": 16,
   "metadata": {},
   "outputs": [
    {
     "data": {
      "text/html": [
       "<div>\n",
       "<style scoped>\n",
       "    .dataframe tbody tr th:only-of-type {\n",
       "        vertical-align: middle;\n",
       "    }\n",
       "\n",
       "    .dataframe tbody tr th {\n",
       "        vertical-align: top;\n",
       "    }\n",
       "\n",
       "    .dataframe thead th {\n",
       "        text-align: right;\n",
       "    }\n",
       "</style>\n",
       "<table border=\"1\" class=\"dataframe\">\n",
       "  <thead>\n",
       "    <tr style=\"text-align: right;\">\n",
       "      <th></th>\n",
       "      <th>Course</th>\n",
       "      <th>Score</th>\n",
       "    </tr>\n",
       "    <tr>\n",
       "      <th>Index</th>\n",
       "      <th></th>\n",
       "      <th></th>\n",
       "    </tr>\n",
       "  </thead>\n",
       "  <tbody>\n",
       "    <tr>\n",
       "      <th>1</th>\n",
       "      <td>Addiction Treatment: Clinical Skills for Healt...</td>\n",
       "      <td>0.294506</td>\n",
       "    </tr>\n",
       "    <tr>\n",
       "      <th>42</th>\n",
       "      <td>Introduction to English Common Law</td>\n",
       "      <td>0.074073</td>\n",
       "    </tr>\n",
       "    <tr>\n",
       "      <th>15</th>\n",
       "      <td>Culminating Project in Health Informatics</td>\n",
       "      <td>0.072535</td>\n",
       "    </tr>\n",
       "    <tr>\n",
       "      <th>0</th>\n",
       "      <td>A Crash Course in Data Science</td>\n",
       "      <td>0.055351</td>\n",
       "    </tr>\n",
       "    <tr>\n",
       "      <th>55</th>\n",
       "      <td>Oral Communication for Engineering Leaders</td>\n",
       "      <td>0.051923</td>\n",
       "    </tr>\n",
       "  </tbody>\n",
       "</table>\n",
       "</div>"
      ],
      "text/plain": [
       "                                                  Course     Score\n",
       "Index                                                             \n",
       "1      Addiction Treatment: Clinical Skills for Healt...  0.294506\n",
       "42                    Introduction to English Common Law  0.074073\n",
       "15             Culminating Project in Health Informatics  0.072535\n",
       "0                         A Crash Course in Data Science  0.055351\n",
       "55            Oral Communication for Engineering Leaders  0.051923"
      ]
     },
     "execution_count": 16,
     "metadata": {},
     "output_type": "execute_result"
    }
   ],
   "source": [
    "Hybrid.get_recommendations('Martha Long',i_data, u_data, 5)"
   ]
  }
 ],
 "metadata": {
  "kernelspec": {
   "display_name": ".venv",
   "language": "python",
   "name": "python3"
  },
  "language_info": {
   "codemirror_mode": {
    "name": "ipython",
    "version": 3
   },
   "file_extension": ".py",
   "mimetype": "text/x-python",
   "name": "python",
   "nbconvert_exporter": "python",
   "pygments_lexer": "ipython3",
   "version": "3.12.2"
  }
 },
 "nbformat": 4,
 "nbformat_minor": 2
}
